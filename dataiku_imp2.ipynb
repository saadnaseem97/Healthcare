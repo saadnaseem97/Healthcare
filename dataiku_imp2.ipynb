{
 "cells": [
  {
   "cell_type": "code",
   "execution_count": 1,
   "metadata": {},
   "outputs": [
    {
     "name": "stderr",
     "output_type": "stream",
     "text": [
      "/home/saadn22/.local/lib/python3.6/site-packages/sklearn/cross_validation.py:41: DeprecationWarning: This module was deprecated in version 0.18 in favor of the model_selection module into which all the refactored classes and functions are moved. Also note that the interface of the new CV iterators are different from that of this module. This module will be removed in 0.20.\n",
      "  \"This module will be removed in 0.20.\", DeprecationWarning)\n"
     ]
    },
    {
     "name": "stdout",
     "output_type": "stream",
     "text": [
      "Populating the interactive namespace from numpy and matplotlib\n"
     ]
    }
   ],
   "source": [
    "import warnings; warnings.simplefilter('ignore')\n",
    "import pandas as pd\n",
    "from collections import defaultdict\n",
    "import matplotlib.pyplot as plt\n",
    "import pandas as pd\n",
    "import numpy as np\n",
    "import pickle\n",
    "import matplotlib.pyplot as plt\n",
    "from scipy import stats\n",
    "import seaborn as sns\n",
    "from pylab import rcParams\n",
    "from sklearn.model_selection import train_test_split\n",
    "import copy\n",
    "import psycopg2\n",
    "from pandas.io import sql\n",
    "from functools import reduce\n",
    "import scipy\n",
    "from sklearn import cross_validation\n",
    "from sklearn.preprocessing import StandardScaler\n",
    "from sklearn.feature_extraction import DictVectorizer\n",
    "from sklearn.linear_model import LogisticRegression\n",
    "from sklearn.ensemble import RandomForestClassifier\n",
    "from sklearn.metrics import roc_curve, auc\n",
    "from scipy.spatial import distance\n",
    "from sklearn.metrics import confusion_matrix\n",
    "\n",
    "from sklearn.tree import DecisionTreeClassifier\n",
    "from sklearn.ensemble import ExtraTreesClassifier\n",
    "%pylab inline"
   ]
  },
  {
   "cell_type": "code",
   "execution_count": 2,
   "metadata": {},
   "outputs": [],
   "source": [
    "# exclusions = pd.read_csv('UPDATED.csv')"
   ]
  },
  {
   "cell_type": "code",
   "execution_count": 3,
   "metadata": {},
   "outputs": [],
   "source": [
    "# print(exclusions)"
   ]
  },
  {
   "cell_type": "code",
   "execution_count": 4,
   "metadata": {},
   "outputs": [],
   "source": [
    "# excluded = pd.read_csv('UPDATED.csv')"
   ]
  },
  {
   "cell_type": "code",
   "execution_count": 5,
   "metadata": {},
   "outputs": [],
   "source": [
    "# print(excluded.columns)"
   ]
  },
  {
   "cell_type": "code",
   "execution_count": 6,
   "metadata": {},
   "outputs": [],
   "source": [
    "# q1 = \" SELECT * from partd_base_no_year ; \"\n",
    "# q2 = \" SELECT * from partd_outlier_no_year ; \"\n",
    "# q3 = \" SELECT * from drug_weights_no_year ; \""
   ]
  },
  {
   "cell_type": "code",
   "execution_count": 7,
   "metadata": {},
   "outputs": [],
   "source": [
    "# con = psycopg2.connect(host=\"localhost\", user=\"postgres\", password=\"Saad123\", database=\"Medicare\")"
   ]
  },
  {
   "cell_type": "code",
   "execution_count": 8,
   "metadata": {},
   "outputs": [],
   "source": [
    "# df1 = pd.read_sql_query(q1,con)\n",
    "# df2 = pd.read_sql_query(q2,con)\n",
    "# df3 = pd.read_sql_query(q3,con)"
   ]
  },
  {
   "cell_type": "code",
   "execution_count": 9,
   "metadata": {},
   "outputs": [],
   "source": [
    "# dfs = [df1,df2,df3]\n",
    "# df = reduce(lambda left,right: pd.merge(left,right,on='npi'), dfs)"
   ]
  },
  {
   "cell_type": "code",
   "execution_count": 10,
   "metadata": {},
   "outputs": [],
   "source": [
    "# df.columns"
   ]
  },
  {
   "cell_type": "code",
   "execution_count": 11,
   "metadata": {
    "scrolled": true
   },
   "outputs": [],
   "source": [
    "# excluded[\"year\"] = excluded.EXCLDATE.apply(lambda x: int(str(x)[:4]))\n",
    "# fraud_npi = excluded[(excluded.NPI != 0) & (excluded.year > 2015)].NPI.values\n",
    "# print(\"Number of fraudulent NPI's: \" + str(len(fraud_npi)))\n",
    "# print((fraud_npi))"
   ]
  },
  {
   "cell_type": "code",
   "execution_count": 12,
   "metadata": {
    "scrolled": false
   },
   "outputs": [],
   "source": [
    "# # df[\"is_fraud\"] = 0\n",
    "\n",
    "# # df.loc[df.index.isin(fraud_npi),\"is_fraud\"] = 1\n",
    "# # df.head()\n",
    "# # print(df.index)\n",
    "# df[\"is_fraud\"] = 0\n",
    "# for i in df.index:\n",
    "#     if df['npi'][i] in fraud_npi:\n",
    "#         df['is_fraud'][i] = 1\n",
    "# # df.loc[df.index.isin(fraud_npi),\"is_fraud\"] = 1\n",
    "# df.head()\n",
    "# print(df.index)"
   ]
  },
  {
   "cell_type": "code",
   "execution_count": 2,
   "metadata": {},
   "outputs": [],
   "source": [
    "categorical_features = [u'speciality']\n",
    "numerical_features = []\n",
    "numerical_features = ['nb_diff_prescriptions','sum_prescr','sum_days','sum_cost'\n",
    "                      ,'var_prescr','var_days','var_cost'\n",
    "                      ,'max_prescr','max_days','max_cost']\n",
    "# base features\n",
    "numerical_features = numerical_features + []\n",
    "# outliers features\n",
    "numerical_features = numerical_features +['nb_perc_presc', 'nb_perc_days', 'nb_perc_cost', 'perc_unicost']\n",
    "# drug scores\n",
    "numerical_features = numerical_features + ['weighted_score', 'score']\n",
    "# outlier score\n",
    "numerical_features = numerical_features + ['mahalanobis']\n",
    "\n",
    "target = ['is_fraud']\n",
    "allvars = categorical_features + numerical_features + target"
   ]
  },
  {
   "cell_type": "code",
   "execution_count": 3,
   "metadata": {},
   "outputs": [],
   "source": [
    "# temp = df.drop('speciality',axis=1)\n",
    "# covmx = temp.cov()\n",
    "# VI = scipy.linalg.inv(covmx)"
   ]
  },
  {
   "cell_type": "code",
   "execution_count": 15,
   "metadata": {},
   "outputs": [],
   "source": [
    "# temp = temp.values\n",
    "# np.nan_to_num(temp)"
   ]
  },
  {
   "cell_type": "code",
   "execution_count": 4,
   "metadata": {},
   "outputs": [],
   "source": [
    "# mean = np.nanmean(temp,axis=0)"
   ]
  },
  {
   "cell_type": "code",
   "execution_count": 17,
   "metadata": {},
   "outputs": [],
   "source": [
    "# df['mahalanobis'] = 0\n",
    "# for i in df.index:\n",
    "#     delta = temp[i] - mean\n",
    "#     mahalanobis_distance = np.sqrt(np.dot(np.dot(np.transpose(delta),VI),delta))\n",
    "#     df['mahalanobis'][i] = mahalanobis_distance"
   ]
  },
  {
   "cell_type": "code",
   "execution_count": 18,
   "metadata": {},
   "outputs": [],
   "source": [
    "# #Pickle dump of the final dataframe\n",
    "# pickle_out = open('data_frame.pickle','wb')\n",
    "# pickle.dump(df,pickle_out)\n",
    "# pickle_out.close()"
   ]
  },
  {
   "cell_type": "code",
   "execution_count": 3,
   "metadata": {},
   "outputs": [],
   "source": [
    "pickle_in = open('data_frame.pickle','rb')\n",
    "df = pickle.load(pickle_in)"
   ]
  },
  {
   "cell_type": "code",
   "execution_count": 4,
   "metadata": {},
   "outputs": [
    {
     "name": "stdout",
     "output_type": "stream",
     "text": [
      "20\n"
     ]
    }
   ],
   "source": [
    "# filename = \"clustering_file.csv\"\n",
    "# file = open(filename, 'wb')\n",
    "# pickle.dump(df, file)\n",
    "print(df.columns.size)"
   ]
  },
  {
   "cell_type": "code",
   "execution_count": 5,
   "metadata": {},
   "outputs": [
    {
     "name": "stdout",
     "output_type": "stream",
     "text": [
      "{0: 807263, 1: 710}\n"
     ]
    }
   ],
   "source": [
    "y = df[\"is_fraud\"].values\n",
    "X = df[allvars].drop('is_fraud',axis=1)\n",
    "\n",
    "unique, counts = numpy.unique(y, return_counts=True)\n",
    "print(dict(zip(unique, counts)))"
   ]
  },
  {
   "cell_type": "code",
   "execution_count": 6,
   "metadata": {},
   "outputs": [
    {
     "name": "stdout",
     "output_type": "stream",
     "text": [
      "(727175, 18) (80798, 18)\n"
     ]
    }
   ],
   "source": [
    "X_train, X_valid, y_train, y_valid = cross_validation.train_test_split(X, y, test_size=0.1, random_state=0)\n",
    "print (X_train.shape, X_valid.shape)"
   ]
  },
  {
   "cell_type": "code",
   "execution_count": 7,
   "metadata": {},
   "outputs": [],
   "source": [
    "# filling missing values \n",
    "X_train[numerical_features] = X_train[numerical_features].fillna(0) # is mean better ? \n",
    "X_valid[numerical_features] = X_valid[numerical_features].fillna(0) # is mean better ? \n",
    "X_train[categorical_features] = X_train[categorical_features].fillna('unknown') \n",
    "X_valid[categorical_features] = X_valid[categorical_features].fillna('unknown')"
   ]
  },
  {
   "cell_type": "code",
   "execution_count": 8,
   "metadata": {},
   "outputs": [],
   "source": [
    "# rescaling \n",
    "scaler= StandardScaler() \n",
    "X_train[numerical_features] = scaler.fit_transform(X_train[numerical_features].values)\n",
    "X_valid[numerical_features] = scaler.transform(X_valid[numerical_features].values)"
   ]
  },
  {
   "cell_type": "code",
   "execution_count": null,
   "metadata": {},
   "outputs": [],
   "source": []
  },
  {
   "cell_type": "code",
   "execution_count": 9,
   "metadata": {},
   "outputs": [],
   "source": [
    "#Giving speciality a unique number\n",
    "s = X_train[categorical_features].values\n",
    "valid = X_valid[categorical_features].values\n",
    "l1, l2 = pd.factorize(s.reshape((s.shape[0])))\n",
    "l1\n",
    "temp = X_train[:]\n",
    "test = X_valid[:]\n",
    "\n",
    "valid_nums, _ = pd.factorize(valid.reshape((valid.shape[0])))"
   ]
  },
  {
   "cell_type": "code",
   "execution_count": 10,
   "metadata": {},
   "outputs": [],
   "source": [
    "temp[categorical_features] = l1\n",
    "test[categorical_features] = valid_nums"
   ]
  },
  {
   "cell_type": "code",
   "execution_count": 11,
   "metadata": {},
   "outputs": [],
   "source": [
    "X_train = temp\n",
    "X_valid = test"
   ]
  },
  {
   "cell_type": "code",
   "execution_count": null,
   "metadata": {},
   "outputs": [],
   "source": []
  },
  {
   "cell_type": "code",
   "execution_count": null,
   "metadata": {},
   "outputs": [],
   "source": []
  },
  {
   "cell_type": "code",
   "execution_count": 13,
   "metadata": {},
   "outputs": [],
   "source": [
    "# dummify categorical features, Getting a sparse matrix\n",
    "\n",
    "# vectorizer = DictVectorizer()\n",
    "# tmp = [dict(enumerate(sample)) for sample in X_train[categorical_features].values]\n",
    "# tmp2 = [dict(enumerate(sample)) for sample in X_valid[categorical_features].values]\n",
    "# X_train = scipy.sparse.hstack((X_train[numerical_features].values, vectorizer.fit_transform(tmp)))\n",
    "# X_valid = scipy.sparse.hstack((X_valid[numerical_features].values, vectorizer.transform(tmp2)))"
   ]
  },
  {
   "cell_type": "code",
   "execution_count": 12,
   "metadata": {},
   "outputs": [],
   "source": [
    "#Pickle dump of the final dataframe\n",
    "pickle_out = open('data_frame_testing.pickle','wb')\n",
    "pickle.dump(X_valid,pickle_out)\n",
    "pickle_out.close()"
   ]
  },
  {
   "cell_type": "code",
   "execution_count": 13,
   "metadata": {},
   "outputs": [],
   "source": [
    "# declare classifier \n",
    "clf1 = LogisticRegression() # pimp me "
   ]
  },
  {
   "cell_type": "code",
   "execution_count": 14,
   "metadata": {},
   "outputs": [
    {
     "data": {
      "text/plain": [
       "LogisticRegression(C=1.0, class_weight=None, dual=False, fit_intercept=True,\n",
       "          intercept_scaling=1, max_iter=100, multi_class='warn',\n",
       "          n_jobs=None, penalty='l2', random_state=None, solver='warn',\n",
       "          tol=0.0001, verbose=0, warm_start=False)"
      ]
     },
     "execution_count": 14,
     "metadata": {},
     "output_type": "execute_result"
    }
   ],
   "source": [
    "# train model 1\n",
    "clf1.fit(X_train,y_train)"
   ]
  },
  {
   "cell_type": "code",
   "execution_count": 15,
   "metadata": {},
   "outputs": [
    {
     "data": {
      "image/png": "[encoded data removed]",
      "text/plain": [
       "<Figure size 432x288 with 1 Axes>"
      ]
     },
     "metadata": {
      "needs_background": "light"
     },
     "output_type": "display_data"
    }
   ],
   "source": [
    "# evaluate and plot roc curve 1\n",
    "probas = clf1.predict_proba(X_valid)\n",
    "fpr, tpr, thresholds = roc_curve(y_valid, probas[:, 1])\n",
    "roc_auc = auc(fpr, tpr)\n",
    "plt.plot(fpr, tpr, lw=1, label='ROC (area = %0.4f)' % roc_auc)\n",
    "plt.xlim([-0.05, 1.05])\n",
    "plt.ylim([-0.05, 1.05])\n",
    "plt.xlabel('False Positive Rate')\n",
    "plt.ylabel('True Positive Rate')\n",
    "plt.title('Receiver operating characteristic')\n",
    "plt.legend(loc=\"lower right\")\n",
    "plt.show()"
   ]
  },
  {
   "cell_type": "code",
   "execution_count": 16,
   "metadata": {},
   "outputs": [
    {
     "data": {
      "image/png": "[encoded data removed]",
      "text/plain": [
       "<Figure size 864x864 with 2 Axes>"
      ]
     },
     "metadata": {
      "needs_background": "light"
     },
     "output_type": "display_data"
    }
   ],
   "source": [
    "LABELS = [\"Normal\", \"Fraud\"]\n",
    "\n",
    "conf_matrix = confusion_matrix(y_valid, probas[:,1].round())\n",
    "\n",
    "plt.figure(figsize=(12, 12))\n",
    "sns.heatmap(conf_matrix, xticklabels=LABELS, yticklabels=LABELS, annot=True, fmt=\"d\");\n",
    "plt.title(\"Confusion matrix\")\n",
    "plt.ylabel('True class')\n",
    "plt.xlabel('Predicted class')\n",
    "plt.show()"
   ]
  },
  {
   "cell_type": "code",
   "execution_count": 17,
   "metadata": {},
   "outputs": [
    {
     "data": {
      "text/plain": [
       "ExtraTreesClassifier(bootstrap=False, class_weight=None, criterion='gini',\n",
       "           max_depth=None, max_features='auto', max_leaf_nodes=None,\n",
       "           min_impurity_decrease=0.0, min_impurity_split=None,\n",
       "           min_samples_leaf=1, min_samples_split=2,\n",
       "           min_weight_fraction_leaf=0.0, n_estimators=10, n_jobs=None,\n",
       "           oob_score=False, random_state=None, verbose=0, warm_start=False)"
      ]
     },
     "execution_count": 17,
     "metadata": {},
     "output_type": "execute_result"
    }
   ],
   "source": [
    "model = ExtraTreesClassifier()\n",
    "model.fit(X_train,y_train)"
   ]
  },
  {
   "cell_type": "code",
   "execution_count": 18,
   "metadata": {},
   "outputs": [
    {
     "name": "stdout",
     "output_type": "stream",
     "text": [
      "[0.01839928 0.01744191 0.01941823 0.01667318 0.04507758 0.01084642\n",
      " 0.01202365 0.01480927 0.01937529 0.02284619 0.02876407 0.00924566\n",
      " 0.01390572 0.01521007 0.02216629 0.05107313 0.05104336 0.6116807 ]\n"
     ]
    }
   ],
   "source": [
    "print(model.feature_importances_)"
   ]
  },
  {
   "cell_type": "code",
   "execution_count": 19,
   "metadata": {},
   "outputs": [],
   "source": [
    "clf2 = DecisionTreeClassifier(max_depth=5)"
   ]
  },
  {
   "cell_type": "code",
   "execution_count": 20,
   "metadata": {},
   "outputs": [
    {
     "data": {
      "text/plain": [
       "DecisionTreeClassifier(class_weight=None, criterion='gini', max_depth=5,\n",
       "            max_features=None, max_leaf_nodes=None,\n",
       "            min_impurity_decrease=0.0, min_impurity_split=None,\n",
       "            min_samples_leaf=1, min_samples_split=2,\n",
       "            min_weight_fraction_leaf=0.0, presort=False, random_state=None,\n",
       "            splitter='best')"
      ]
     },
     "execution_count": 20,
     "metadata": {},
     "output_type": "execute_result"
    }
   ],
   "source": [
    "clf2.fit(X_train,y_train)"
   ]
  },
  {
   "cell_type": "code",
   "execution_count": 21,
   "metadata": {},
   "outputs": [
    {
     "data": {
      "image/png": "[encoded data removed]",
      "text/plain": [
       "<Figure size 432x288 with 1 Axes>"
      ]
     },
     "metadata": {
      "needs_background": "light"
     },
     "output_type": "display_data"
    }
   ],
   "source": [
    "# evaluate and plot roc curve 2\n",
    "probas = clf2.predict_proba(X_valid)\n",
    "fpr, tpr, thresholds = roc_curve(y_valid, probas[:, 1])\n",
    "roc_auc = auc(fpr, tpr)\n",
    "plt.plot(fpr, tpr, lw=1, label='ROC (area = %0.4f)' % roc_auc)\n",
    "plt.xlim([-0.05, 1.05])\n",
    "plt.ylim([-0.05, 1.05])\n",
    "plt.xlabel('False Positive Rate')\n",
    "plt.ylabel('True Positive Rate')\n",
    "plt.title('Receiver operating characteristic')\n",
    "plt.legend(loc=\"lower right\")\n",
    "plt.show()"
   ]
  },
  {
   "cell_type": "code",
   "execution_count": 22,
   "metadata": {},
   "outputs": [
    {
     "data": {
      "image/png": "[encoded data removed]",
      "text/plain": [
       "<Figure size 864x864 with 2 Axes>"
      ]
     },
     "metadata": {
      "needs_background": "light"
     },
     "output_type": "display_data"
    }
   ],
   "source": [
    "LABELS = [\"Normal\", \"Fraud\"]\n",
    "\n",
    "conf_matrix = confusion_matrix(y_valid, probas[:,1].round())\n",
    "\n",
    "plt.figure(figsize=(12, 12))\n",
    "sns.heatmap(conf_matrix, xticklabels=LABELS, yticklabels=LABELS, annot=True, fmt=\"d\");\n",
    "plt.title(\"Confusion matrix\")\n",
    "plt.ylabel('True class')\n",
    "plt.xlabel('Predicted class')\n",
    "plt.show()"
   ]
  },
  {
   "cell_type": "code",
   "execution_count": 22,
   "metadata": {},
   "outputs": [],
   "source": [
    "#Pickle dump of the final dataframe\n",
    "# pickle_out = open('vars.pickle','wb')\n",
    "# pickle.dump([X_train,X_valid,y_train,y_valid],pickle_out)\n",
    "# pickle_out.close()"
   ]
  },
  {
   "cell_type": "code",
   "execution_count": null,
   "metadata": {},
   "outputs": [],
   "source": []
  },
  {
   "cell_type": "code",
   "execution_count": 22,
   "metadata": {},
   "outputs": [],
   "source": [
    "X_cluster1 = X_valid[:]"
   ]
  },
  {
   "cell_type": "code",
   "execution_count": 23,
   "metadata": {},
   "outputs": [
    {
     "name": "stdout",
     "output_type": "stream",
     "text": [
      "        speciality  nb_diff_prescriptions  sum_prescr  sum_days  sum_cost  \\\n",
      "114624           0               2.572935    2.188240  2.439145  1.092195   \n",
      "594836           1              -0.655259   -0.437856 -0.462805 -0.410456   \n",
      "770913           2              -0.098674   -0.246666 -0.174824 -0.242912   \n",
      "368388           1              -0.655259   -0.442777 -0.463523 -0.410677   \n",
      "407574           3               0.476464    0.406838  0.637687  0.246681   \n",
      "157234           4              -0.543942   -0.385957 -0.446917 -0.401542   \n",
      "696116           5              -0.488283   -0.417275 -0.434671 -0.371381   \n",
      "414843           6              -0.636706   -0.440540 -0.462741 -0.410368   \n",
      "218396           0              -0.432625   -0.404003 -0.426881 -0.400849   \n",
      "567052           1              -0.655259   -0.435917 -0.463294 -0.410516   \n",
      "239714           6               0.402253    0.035495  0.022675 -0.174049   \n",
      "756446           5               2.647146    1.498049  1.378253  0.975724   \n",
      "457495           7               2.331748    2.415520  1.817887  1.329989   \n",
      "507847           1              -0.618153   -0.435470 -0.462011 -0.409743   \n",
      "662856           5               1.997797    0.639934  1.328763  0.522808   \n",
      "298335           3              -0.599600   -0.436365 -0.451280 -0.392590   \n",
      "369397           8              -0.302755   -0.272616 -0.367731 -0.335051   \n",
      "39764            9              -0.376966   -0.396546 -0.420959 -0.392536   \n",
      "206333           1              -0.618153   -0.407134 -0.459693 -0.408762   \n",
      "569637           6               1.626740    0.719124  0.744692  0.337015   \n",
      "680909          10              -0.636706   -0.439347 -0.459840 -0.404545   \n",
      "670374          11              -0.655259   -0.438900 -0.463567 -0.397086   \n",
      "791837           5              -0.302755   -0.380141 -0.400911 -0.383626   \n",
      "438866           6               3.723211    5.166142  3.870115  2.926005   \n",
      "465466          10              -0.581048   -0.433531 -0.456294 -0.409236   \n",
      "128000          12               0.105407   -0.117218 -0.169517 -0.053375   \n",
      "580610           1              -0.618153   -0.428759 -0.457850 -0.409612   \n",
      "598224           3               0.068302    0.320042  0.153862  0.442330   \n",
      "131034           1              -0.655259   -0.440242 -0.461707 -0.410377   \n",
      "114363           7               0.012643   -0.222656 -0.293993 -0.372962   \n",
      "...            ...                    ...         ...       ...       ...   \n",
      "284321          64              -0.469731   -0.354938 -0.363850 -0.099619   \n",
      "434101           1              -0.562495   -0.420109 -0.458248 -0.409002   \n",
      "387741           0               1.274236    0.165390  0.392531  0.120486   \n",
      "621181           3               0.495017   -0.110656 -0.060207 -0.242651   \n",
      "519685           0               1.014496    0.132879  0.127777 -0.089098   \n",
      "443804           1              -0.636706   -0.433978 -0.462994 -0.410344   \n",
      "97151           19              -0.469731   -0.341665 -0.377644 -0.357723   \n",
      "105631          12              -0.080121    0.034003 -0.023873  0.075655   \n",
      "61159            5              -0.414072   -0.284248 -0.222023  0.602111   \n",
      "617649           5               1.719504    0.956395  0.837835  0.370641   \n",
      "459001          27              -0.061568    0.121097  0.004261  0.038624   \n",
      "109246          16               0.476464    0.258151  0.474620 -0.007941   \n",
      "723674           5               3.797422    3.308085  2.529055  2.272246   \n",
      "70703           73               2.498723    1.003820  0.667898  1.718754   \n",
      "253368           6              -0.543942   -0.420556 -0.452757 -0.383044   \n",
      "797536           0               1.329895    0.278732  0.451946 -0.034327   \n",
      "76098           21               0.142513   -0.133325 -0.134083  4.125061   \n",
      "654668          27              -0.302755   -0.206997 -0.120609 -0.224055   \n",
      "400546          13              -0.525389   -0.410714 -0.416012 -0.364761   \n",
      "77714            0               2.405959    1.284788  1.568175  0.784004   \n",
      "201577           9              -0.376966   -0.392072 -0.419087 -0.353084   \n",
      "748888          32              -0.432625   -0.335550 -0.382805 -0.325841   \n",
      "1669             0              -0.488283   -0.416231 -0.424998 -0.390706   \n",
      "499006           6              -0.506836   -0.409968 -0.436700 -0.400098   \n",
      "616030           6              -0.265649   -0.347928 -0.416383 -0.393699   \n",
      "103868           1              -0.655259   -0.439795 -0.462204 -0.410528   \n",
      "35529            5               1.367000    1.040358  1.770028  0.383545   \n",
      "424470           1              -0.618153   -0.425925 -0.461419 -0.409705   \n",
      "307423           3              -0.525389   -0.416679 -0.448268 -0.407594   \n",
      "11453            3               0.791862    0.146599  0.081079 -0.094407   \n",
      "\n",
      "        var_prescr  var_days  var_cost  max_prescr  max_days  max_cost  \\\n",
      "114624    0.099667  0.337673 -0.033863    2.029300  2.551534  0.133123   \n",
      "594836   -0.053405 -0.111205 -0.036184   -0.492645 -0.572924 -0.288336   \n",
      "770913   -0.046513 -0.070700 -0.035044   -0.299982 -0.112723 -0.117778   \n",
      "368388   -0.053405 -0.111205 -0.036184   -0.564083 -0.582619 -0.289054   \n",
      "407574    0.035335  0.173259 -0.030347    0.557263  0.812155  0.243812   \n",
      "157234   -0.040556 -0.109054 -0.036164   -0.265346 -0.506922 -0.275427   \n",
      "696116   -0.052757 -0.109234 -0.035914   -0.488316 -0.483697 -0.245407   \n",
      "414843   -0.053402 -0.111198 -0.036184   -0.559753 -0.577452 -0.288363   \n",
      "218396   -0.052528 -0.109531 -0.036166   -0.466668 -0.471391 -0.272539   \n",
      "567052   -0.053405 -0.111205 -0.036184   -0.464504 -0.579530 -0.288529   \n",
      "239714   -0.034306 -0.064688 -0.035759    0.020403 -0.119488 -0.174200   \n",
      "756446   -0.009196 -0.017600 -0.033614    0.414389  0.329580  0.072382   \n",
      "457495    0.071629  0.047318 -0.030968    1.055158  0.765171  0.289467   \n",
      "507847   -0.051909 -0.111099 -0.036182   -0.505634 -0.570154 -0.286671   \n",
      "662856   -0.031172  0.028337 -0.034449    0.187089  0.790687  0.006323   \n",
      "298335   -0.053270 -0.110958 -0.035490   -0.544600 -0.532492 -0.233369   \n",
      "369397   -0.014296 -0.062444 -0.035966    0.241208  0.047621 -0.242337   \n",
      "39764    -0.052903 -0.110169 -0.036117   -0.501305 -0.513315 -0.254106   \n",
      "206333   -0.005936 -0.110046 -0.036181   -0.185250 -0.542560 -0.284940   \n",
      "569637   -0.017433 -0.029334 -0.034751    0.639524  0.340234  0.057657   \n",
      "680909   -0.053058 -0.111191 -0.036042   -0.540270 -0.557422 -0.270424   \n",
      "670374   -0.053405 -0.111205 -0.036184   -0.507799 -0.583205 -0.244801   \n",
      "791837   -0.052421 -0.108961 -0.036099   -0.464504 -0.457381 -0.245145   \n",
      "438866    0.389079  0.392625 -0.024757    3.157140  2.333233  0.607042   \n",
      "465466   -0.053180 -0.110835 -0.036184   -0.533776 -0.546875 -0.287273   \n",
      "128000   -0.043204 -0.096340 -0.034507   -0.202568 -0.269550 -0.113146   \n",
      "580610   -0.051446 -0.108981 -0.036184   -0.488316 -0.525940 -0.287602   \n",
      "598224    0.176575  0.147221 -0.018730    1.548723  0.974789  0.497393   \n",
      "131034   -0.053405 -0.111205 -0.036184   -0.527282 -0.558115 -0.288077   \n",
      "114363   -0.041091 -0.096124 -0.036162   -0.066188 -0.198488 -0.265810   \n",
      "...            ...       ...       ...         ...       ...       ...   \n",
      "284321   -0.042373 -0.061028  0.011465   -0.297817 -0.161731  0.475481   \n",
      "434101   -0.052286 -0.110692 -0.036184   -0.481822 -0.547141 -0.287728   \n",
      "387741   -0.041731 -0.052414 -0.035361    0.011744  0.396700 -0.115734   \n",
      "621181   -0.048505 -0.086334 -0.035970   -0.235039 -0.065951 -0.186871   \n",
      "519685   -0.046013 -0.087650 -0.035805   -0.066188  0.027485 -0.161211   \n",
      "443804   -0.052761 -0.111183 -0.036184   -0.496975 -0.578251 -0.288610   \n",
      "97151    -0.020147 -0.065956 -0.035955   -0.057529 -0.137760 -0.244994   \n",
      "105631    0.021528 -0.001131 -0.028512    0.524792  0.381092  0.115719   \n",
      "61159    -0.019942  0.072472  0.120053   -0.035881  0.327289  1.121334   \n",
      "617649   -0.012844 -0.028865 -0.034828    0.544274  0.481773 -0.067938   \n",
      "459001    0.175693  0.363088 -0.031871    1.721904  1.917192 -0.033070   \n",
      "109246   -0.012686  0.055191 -0.034788    0.176265  0.490243 -0.033317   \n",
      "723674    0.082256  0.068793 -0.031864    1.507593  1.366378  0.224187   \n",
      "70703    -0.035665 -0.090441 -0.030322    0.239043  0.030042  0.280686   \n",
      "253368   -0.052903 -0.110520 -0.035951   -0.509964 -0.535102 -0.242217   \n",
      "797536   -0.038026 -0.040778 -0.035817   -0.020728  0.278813 -0.169117   \n",
      "76098    -0.038318 -0.066776  2.180030   -0.133295 -0.062436  9.892874   \n",
      "654668    0.020770  0.390532 -0.033934    0.442531  1.105248 -0.078067   \n",
      "400546   -0.046804 -0.078788 -0.034816   -0.369254 -0.307372 -0.175471   \n",
      "77714    -0.007738  0.036991 -0.034841    0.587570  0.957423 -0.022779   \n",
      "201577   -0.051358 -0.108955 -0.035861   -0.427703 -0.465372 -0.227086   \n",
      "748888   -0.040498 -0.091721 -0.035247   -0.274005 -0.307159 -0.169155   \n",
      "1669     -0.052812 -0.107934 -0.036103   -0.494810 -0.447792 -0.264763   \n",
      "499006   -0.052522 -0.109160 -0.036145   -0.477492 -0.486147 -0.268502   \n",
      "616030   -0.050483 -0.110122 -0.036179   -0.421208 -0.502128 -0.281431   \n",
      "103868   -0.053405 -0.111205 -0.036184   -0.520787 -0.564827 -0.288569   \n",
      "35529     0.063673  0.414979 -0.035039    1.200197  1.978133 -0.096648   \n",
      "424470   -0.047945 -0.111148 -0.036184   -0.427703 -0.570634 -0.287748   \n",
      "307423   -0.052048 -0.109922 -0.036183   -0.473163 -0.521305 -0.285988   \n",
      "11453    -0.032564 -0.074314 -0.035140    0.009579 -0.026105 -0.035584   \n",
      "\n",
      "        nb_perc_presc  nb_perc_days  nb_perc_cost  perc_unicost  \\\n",
      "114624      -0.127704     -0.146899     -0.147241     -0.219724   \n",
      "594836      -0.127704     -0.146899     -0.147241     -0.219724   \n",
      "770913      -0.127704     -0.146899     -0.147241     -0.219724   \n",
      "368388      -0.127704     -0.146899     -0.147241     -0.219724   \n",
      "407574       0.250592      0.758388      0.302677      1.180949   \n",
      "157234      -0.127704     -0.146899     -0.147241     -0.219724   \n",
      "696116      -0.127704     -0.146899     -0.147241     -0.219724   \n",
      "414843      -0.127704     -0.146899     -0.147241     -0.219724   \n",
      "218396      -0.127704     -0.146899     -0.147241     -0.219724   \n",
      "567052      -0.127704     -0.146899     -0.147241     -0.219724   \n",
      "239714      -0.127704     -0.146899     -0.147241     -0.219724   \n",
      "756446      -0.127704     -0.146899     -0.147241      1.180949   \n",
      "457495      -0.127704     -0.146899     -0.147241     -0.219724   \n",
      "507847      -0.127704     -0.146899     -0.147241     -0.219724   \n",
      "662856      -0.127704     -0.146899     -0.147241      1.180949   \n",
      "298335      -0.127704     -0.146899     -0.147241     -0.219724   \n",
      "369397      -0.127704     -0.146899     -0.147241     -0.219724   \n",
      "39764       -0.127704     -0.146899     -0.147241     -0.219724   \n",
      "206333      -0.127704     -0.146899     -0.147241     -0.219724   \n",
      "569637       0.250592      0.305744      0.302677     -0.219724   \n",
      "680909      -0.127704     -0.146899     -0.147241     -0.219724   \n",
      "670374      -0.127704     -0.146899     -0.147241     -0.219724   \n",
      "791837      -0.127704     -0.146899     -0.147241     -0.219724   \n",
      "438866      13.869228     12.979763      9.750951      2.581621   \n",
      "465466      -0.127704     -0.146899     -0.147241     -0.219724   \n",
      "128000      -0.127704     -0.146899     -0.147241     -0.219724   \n",
      "580610      -0.127704     -0.146899     -0.147241     -0.219724   \n",
      "598224      -0.127704      0.305744     -0.147241     -0.219724   \n",
      "131034      -0.127704     -0.146899     -0.147241     -0.219724   \n",
      "114363      -0.127704     -0.146899     -0.147241      2.581621   \n",
      "...               ...           ...           ...           ...   \n",
      "284321      -0.127704     -0.146899     -0.147241     -0.219724   \n",
      "434101      -0.127704     -0.146899     -0.147241     -0.219724   \n",
      "387741      -0.127704     -0.146899     -0.147241     -0.219724   \n",
      "621181      -0.127704     -0.146899     -0.147241     -0.219724   \n",
      "519685      -0.127704     -0.146899     -0.147241      1.180949   \n",
      "443804      -0.127704     -0.146899     -0.147241     -0.219724   \n",
      "97151       -0.127704     -0.146899     -0.147241      2.581621   \n",
      "105631      -0.127704     -0.146899     -0.147241     -0.219724   \n",
      "61159        0.250592      0.758388      0.302677     -0.219724   \n",
      "617649      -0.127704     -0.146899     -0.147241      2.581621   \n",
      "459001      -0.127704     -0.146899     -0.147241     -0.219724   \n",
      "109246      -0.127704     -0.146899     -0.147241     -0.219724   \n",
      "723674      -0.127704     -0.146899      0.302677     -0.219724   \n",
      "70703       -0.127704     -0.146899     -0.147241      1.180949   \n",
      "253368      -0.127704     -0.146899     -0.147241     -0.219724   \n",
      "797536      -0.127704     -0.146899     -0.147241      2.581621   \n",
      "76098       -0.127704     -0.146899     -0.147241     -0.219724   \n",
      "654668      -0.127704     -0.146899     -0.147241     -0.219724   \n",
      "400546      -0.127704     -0.146899     -0.147241     -0.219724   \n",
      "77714       -0.127704     -0.146899     -0.147241     -0.219724   \n",
      "201577      -0.127704     -0.146899     -0.147241     -0.219724   \n",
      "748888      -0.127704     -0.146899     -0.147241     -0.219724   \n",
      "1669        -0.127704     -0.146899     -0.147241     -0.219724   \n",
      "499006      -0.127704     -0.146899     -0.147241     -0.219724   \n",
      "616030      -0.127704     -0.146899     -0.147241     -0.219724   \n",
      "103868      -0.127704     -0.146899     -0.147241     -0.219724   \n",
      "35529       -0.127704     -0.146899     -0.147241     -0.219724   \n",
      "424470      -0.127704     -0.146899     -0.147241     -0.219724   \n",
      "307423      -0.127704     -0.146899     -0.147241     -0.219724   \n",
      "11453       -0.127704     -0.146899     -0.147241     -0.219724   \n",
      "\n",
      "        weighted_score     score  mahalanobis  \n",
      "114624        0.017203  0.358459     0.413967  \n",
      "594836       -0.468276 -1.042991    -0.729422  \n",
      "770913       -0.688828  0.069148    -0.148463  \n",
      "368388       -0.468278 -1.042991    -0.729422  \n",
      "407574       -0.646236 -0.257740    -0.112702  \n",
      "157234        4.601592  0.610489     0.890381  \n",
      "696116       -0.531806 -0.046064    -0.255622  \n",
      "414843        0.543173 -0.783212    -0.257836  \n",
      "218396       -0.378287 -0.004895    -0.385830  \n",
      "567052       -0.468277 -1.042991    -0.729422  \n",
      "239714       -0.130018  0.397503    -0.280719  \n",
      "756446       -0.038917  0.269888     0.510611  \n",
      "457495       -0.025544  0.584200     0.913130  \n",
      "507847       -0.064601 -0.337385    -0.444237  \n",
      "662856       -0.269306  0.452135     0.657777  \n",
      "298335       -0.825009 -0.291029    -0.329728  \n",
      "369397       -0.309766 -0.389255    -0.358029  \n",
      "39764        -0.220502 -0.116372    -0.217871  \n",
      "206333       -0.117125 -0.916251    -0.181602  \n",
      "569637        0.922693  0.283029     0.343777  \n",
      "680909       -0.700823 -0.721765    -0.239024  \n",
      "670374       -0.809493 -2.112745    -0.729422  \n",
      "791837       -0.182377 -0.040991    -0.192918  \n",
      "438866       -0.141385  0.602434     5.552606  \n",
      "465466       -0.666222  0.238618    -0.283572  \n",
      "128000        0.551615  1.354727    -0.144804  \n",
      "580610       -0.119535 -0.829245    -0.332979  \n",
      "598224        4.139955  3.551327     0.862699  \n",
      "131034       -0.139594 -0.911642    -0.729422  \n",
      "114363       -0.320155 -0.026970     0.217273  \n",
      "...                ...       ...          ...  \n",
      "284321       -0.911284 -0.582730    -0.235637  \n",
      "434101       -0.167637 -0.117763    -0.494886  \n",
      "387741       -0.310546  0.187625     0.199747  \n",
      "621181       -0.000427  0.569805    -0.120053  \n",
      "519685       -0.018132  0.472999     0.060618  \n",
      "443804       -0.369725 -1.107825    -0.329670  \n",
      "97151         0.762967  0.658435     0.264361  \n",
      "105631        0.339602  0.954115    -0.141893  \n",
      "61159        -0.538406  0.117211     0.222772  \n",
      "617649       -0.233293  0.310079     0.326492  \n",
      "459001       -0.534797 -0.793365     0.595525  \n",
      "109246       -0.548290 -0.198839    -0.194576  \n",
      "723674       -0.026863  0.234604     1.504866  \n",
      "70703         0.364438  0.898974     0.978301  \n",
      "253368        0.374029  0.956826    -0.276694  \n",
      "797536       -0.201312  0.284981     0.458550  \n",
      "76098        -0.824809 -0.514693     3.586876  \n",
      "654668        1.405496 -0.381391     0.500854  \n",
      "400546       -0.514594 -0.822419    -0.439555  \n",
      "77714         0.073097  0.153928     0.359827  \n",
      "201577        0.426903  1.084853    -0.248746  \n",
      "748888        0.050504  0.771444    -0.160852  \n",
      "1669         -0.259422 -0.063785    -0.168280  \n",
      "499006        0.740051  0.717721    -0.377002  \n",
      "616030       -0.172946 -0.325500    -0.381908  \n",
      "103868       -0.468277 -1.042991    -0.729422  \n",
      "35529        -0.381492 -0.088799     0.437804  \n",
      "424470       -0.320789 -0.550571    -0.430411  \n",
      "307423       -0.004639  0.043800    -0.484610  \n",
      "11453         0.007027  0.327838     0.037702  \n",
      "\n",
      "[80798 rows x 18 columns]\n"
     ]
    }
   ],
   "source": [
    "print(X_cluster1)"
   ]
  },
  {
   "cell_type": "code",
   "execution_count": 24,
   "metadata": {},
   "outputs": [],
   "source": [
    "X_cluster1 = X_cluster1['mahalanobis']"
   ]
  },
  {
   "cell_type": "code",
   "execution_count": 25,
   "metadata": {},
   "outputs": [
    {
     "name": "stdout",
     "output_type": "stream",
     "text": [
      "114624    0.413967\n",
      "594836   -0.729422\n",
      "770913   -0.148463\n",
      "368388   -0.729422\n",
      "407574   -0.112702\n",
      "157234    0.890381\n",
      "696116   -0.255622\n",
      "414843   -0.257836\n",
      "218396   -0.385830\n",
      "567052   -0.729422\n",
      "239714   -0.280719\n",
      "756446    0.510611\n",
      "457495    0.913130\n",
      "507847   -0.444237\n",
      "662856    0.657777\n",
      "298335   -0.329728\n",
      "369397   -0.358029\n",
      "39764    -0.217871\n",
      "206333   -0.181602\n",
      "569637    0.343777\n",
      "680909   -0.239024\n",
      "670374   -0.729422\n",
      "791837   -0.192918\n",
      "438866    5.552606\n",
      "465466   -0.283572\n",
      "128000   -0.144804\n",
      "580610   -0.332979\n",
      "598224    0.862699\n",
      "131034   -0.729422\n",
      "114363    0.217273\n",
      "            ...   \n",
      "284321   -0.235637\n",
      "434101   -0.494886\n",
      "387741    0.199747\n",
      "621181   -0.120053\n",
      "519685    0.060618\n",
      "443804   -0.329670\n",
      "97151     0.264361\n",
      "105631   -0.141893\n",
      "61159     0.222772\n",
      "617649    0.326492\n",
      "459001    0.595525\n",
      "109246   -0.194576\n",
      "723674    1.504866\n",
      "70703     0.978301\n",
      "253368   -0.276694\n",
      "797536    0.458550\n",
      "76098     3.586876\n",
      "654668    0.500854\n",
      "400546   -0.439555\n",
      "77714     0.359827\n",
      "201577   -0.248746\n",
      "748888   -0.160852\n",
      "1669     -0.168280\n",
      "499006   -0.377002\n",
      "616030   -0.381908\n",
      "103868   -0.729422\n",
      "35529     0.437804\n",
      "424470   -0.430411\n",
      "307423   -0.484610\n",
      "11453     0.037702\n",
      "Name: mahalanobis, Length: 80798, dtype: float64\n"
     ]
    }
   ],
   "source": [
    "print(X_cluster1)"
   ]
  },
  {
   "cell_type": "code",
   "execution_count": 26,
   "metadata": {},
   "outputs": [],
   "source": [
    "from sklearn.cluster import KMeans"
   ]
  },
  {
   "cell_type": "code",
   "execution_count": 27,
   "metadata": {},
   "outputs": [],
   "source": [
    "clustering = KMeans(n_clusters=10, random_state=0)"
   ]
  },
  {
   "cell_type": "code",
   "execution_count": 28,
   "metadata": {
    "scrolled": true
   },
   "outputs": [
    {
     "data": {
      "text/plain": [
       "KMeans(algorithm='auto', copy_x=True, init='k-means++', max_iter=300,\n",
       "    n_clusters=10, n_init=10, n_jobs=None, precompute_distances='auto',\n",
       "    random_state=0, tol=0.0001, verbose=0)"
      ]
     },
     "execution_count": 28,
     "metadata": {},
     "output_type": "execute_result"
    }
   ],
   "source": [
    "clustering.fit(X_cluster1.values.reshape(-1,1))"
   ]
  },
  {
   "cell_type": "code",
   "execution_count": 29,
   "metadata": {},
   "outputs": [],
   "source": [
    "labels=clustering.labels_"
   ]
  },
  {
   "cell_type": "code",
   "execution_count": 30,
   "metadata": {},
   "outputs": [
    {
     "name": "stdout",
     "output_type": "stream",
     "text": [
      "[4 9 0 ... 0 0 5]\n"
     ]
    }
   ],
   "source": [
    "print(labels)"
   ]
  },
  {
   "cell_type": "code",
   "execution_count": 31,
   "metadata": {},
   "outputs": [
    {
     "name": "stdout",
     "output_type": "stream",
     "text": [
      "{0: 42568, 1: 2902, 2: 316, 3: 25, 4: 7471, 5: 17495, 6: 173, 7: 1048, 8: 2, 9: 8798}\n"
     ]
    }
   ],
   "source": [
    "unique, counts = numpy.unique(labels, return_counts=True)\n",
    "print(dict(zip(unique, counts)))"
   ]
  },
  {
   "cell_type": "code",
   "execution_count": 32,
   "metadata": {},
   "outputs": [],
   "source": [
    "test = []\n",
    "for label in labels:\n",
    "    if str(label) in \"68\":\n",
    "        test.append(1)\n",
    "    else:\n",
    "        test.append(0)"
   ]
  },
  {
   "cell_type": "code",
   "execution_count": 33,
   "metadata": {},
   "outputs": [
    {
     "data": {
      "image/png": "[encoded data removed]",
      "text/plain": [
       "<Figure size 432x288 with 1 Axes>"
      ]
     },
     "metadata": {
      "needs_background": "light"
     },
     "output_type": "display_data"
    }
   ],
   "source": [
    "fpr, tpr, thresholds = roc_curve(y_valid, test)\n",
    "roc_auc = auc(fpr, tpr)\n",
    "plt.plot(fpr, tpr, lw=1, label='ROC (area = %0.4f)' % roc_auc)\n",
    "plt.xlim([-0.05, 1.05])\n",
    "plt.ylim([-0.05, 1.05])\n",
    "plt.xlabel('False Positive Rate')\n",
    "plt.ylabel('True Positive Rate')\n",
    "plt.title('Receiver operating characteristic')\n",
    "plt.legend(loc=\"lower right\")\n",
    "plt.show()"
   ]
  },
  {
   "cell_type": "code",
   "execution_count": 34,
   "metadata": {},
   "outputs": [
    {
     "data": {
      "image/png": "[encoded data removed]",
      "text/plain": [
       "<Figure size 864x864 with 2 Axes>"
      ]
     },
     "metadata": {
      "needs_background": "light"
     },
     "output_type": "display_data"
    }
   ],
   "source": [
    "LABELS = [\"Normal\", \"Fraud\"]\n",
    "\n",
    "conf_matrix = confusion_matrix(y_valid, test)\n",
    "\n",
    "plt.figure(figsize=(12, 12))\n",
    "sns.heatmap(conf_matrix, xticklabels=LABELS, yticklabels=LABELS, annot=True, fmt=\"d\");\n",
    "plt.title(\"Confusion matrix\")\n",
    "plt.ylabel('True class')\n",
    "plt.xlabel('Predicted class')\n",
    "plt.show()"
   ]
  },
  {
   "cell_type": "code",
   "execution_count": 35,
   "metadata": {},
   "outputs": [
    {
     "data": {
      "text/plain": [
       "(80798, 18)"
      ]
     },
     "execution_count": 35,
     "metadata": {},
     "output_type": "execute_result"
    }
   ],
   "source": [
    "X_valid.shape"
   ]
  },
  {
   "cell_type": "code",
   "execution_count": null,
   "metadata": {},
   "outputs": [],
   "source": []
  }
 ],
 "metadata": {
  "kernelspec": {
   "display_name": "Python 3",
   "language": "python",
   "name": "python3"
  },
  "language_info": {
   "codemirror_mode": {
    "name": "ipython",
    "version": 3
   },
   "file_extension": ".py",
   "mimetype": "text/x-python",
   "name": "python",
   "nbconvert_exporter": "python",
   "pygments_lexer": "ipython3",
   "version": "3.6.5"
  }
 },
 "nbformat": 4,
 "nbformat_minor": 2
}
